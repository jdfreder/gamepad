{
 "cells": [
  {
   "cell_type": "code",
   "execution_count": 9,
   "metadata": {
    "collapsed": false,
    "scrolled": true
   },
   "outputs": [],
   "source": [
    "from IPython.html.widgets import Latex, HBox, VBox\n",
    "from gamepad import GamePad\n",
    "gamepad = GamePad()"
   ]
  },
  {
   "cell_type": "markdown",
   "metadata": {},
   "source": [
    "# Connect a gamepad and press any button before running the following."
   ]
  },
  {
   "cell_type": "code",
   "execution_count": 10,
   "metadata": {
    "collapsed": false
   },
   "outputs": [],
   "source": [
    "VBox([Latex(gamepad.id, font_size='20px'),\n",
    "      Latex('Mapping: ' + gamepad.mapping),\n",
    "      HBox([VBox([Latex('Axes'),\n",
    "                  HBox(gamepad.axes, margin='5px')]),\n",
    "            VBox([Latex('Buttons'),\n",
    "                  HBox(gamepad.buttons, margin='5px')])])])"
   ]
  }
 ],
 "metadata": {
  "kernelspec": {
   "display_name": "Python 2",
   "language": "python",
   "name": "python2"
  },
  "language_info": {
   "codemirror_mode": {
    "name": "ipython",
    "version": 2
   },
   "file_extension": ".py",
   "mimetype": "text/x-python",
   "name": "python",
   "nbconvert_exporter": "python",
   "pygments_lexer": "ipython2",
   "version": "2.7.10"
  }
 },
 "nbformat": 4,
 "nbformat_minor": 0
}
