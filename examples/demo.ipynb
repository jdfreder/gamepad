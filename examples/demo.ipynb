{
 "cells": [
  {
   "cell_type": "code",
   "execution_count": 1,
   "metadata": {
    "collapsed": false,
    "scrolled": true
   },
   "outputs": [
    {
     "name": "stderr",
     "output_type": "stream",
     "text": [
      "/home/sylvain/jupyter/ipython/IPython/html.py:10: UserWarning: The `IPython.html` package has been deprecated. You should import from `notebook` instead. `IPython.html.widgets` has moved to `ipywidgets`.\n",
      "  warn(\"The `IPython.html` package has been deprecated. \"\n",
      ":0: FutureWarning: IPython widgets are experimental and may change in the future.\n"
     ]
    }
   ],
   "source": [
    "from IPython.html.widgets import *\n",
    "from gamepad import *\n",
    "gamepad = GamePad()"
   ]
  },
  {
   "cell_type": "code",
   "execution_count": 2,
   "metadata": {
    "collapsed": false
   },
   "outputs": [
    {
     "name": "stdout",
     "output_type": "stream",
     "text": [
      "©Microsoft Corporation Controller (STANDARD GAMEPAD Vendor: 045e Product: 028e)\n",
      "standard\n"
     ]
    }
   ],
   "source": [
    "print gamepad.id\n",
    "print gamepad.mapping"
   ]
  },
  {
   "cell_type": "code",
   "execution_count": 3,
   "metadata": {
    "collapsed": false
   },
   "outputs": [],
   "source": [
    "squares = [FloatProgress(min=0.0, max=1.0) for axis in gamepad.buttons]\n",
    "bars = [FloatProgress(min=-1.0, max=1.0, bar_style='warning') for axis in gamepad.axes]\n",
    "for axis, bar in zip(gamepad.axes, bars):\n",
    "    jsdlink((axis, 'value'), (bar, 'value'))\n",
    "for button, btn in zip(gamepad.buttons, squares):\n",
    "    jsdlink((button, 'value'), (btn, 'value'))\n",
    "HBox([VBox([Latex('Axes')] + bars), VBox([Latex('Buttons')] + squares)])"
   ]
  },
  {
   "cell_type": "code",
   "execution_count": 4,
   "metadata": {
    "collapsed": false
   },
   "outputs": [
    {
     "data": {
      "text/plain": [
       "4090076.0"
      ]
     },
     "execution_count": 4,
     "metadata": {},
     "output_type": "execute_result"
    }
   ],
   "source": [
    "gamepad.timestamp"
   ]
  },
  {
   "cell_type": "code",
   "execution_count": null,
   "metadata": {
    "collapsed": true
   },
   "outputs": [],
   "source": []
  }
 ],
 "metadata": {
  "kernelspec": {
   "display_name": "Python 2",
   "language": "python",
   "name": "python2"
  },
  "language_info": {
   "codemirror_mode": {
    "name": "ipython",
    "version": 2
   },
   "file_extension": ".py",
   "mimetype": "text/x-python",
   "name": "python",
   "nbconvert_exporter": "python",
   "pygments_lexer": "ipython2",
   "version": "2.7.10"
  }
 },
 "nbformat": 4,
 "nbformat_minor": 0
}
