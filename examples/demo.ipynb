{
 "cells": [
  {
   "cell_type": "code",
   "execution_count": 1,
   "metadata": {
    "collapsed": false,
    "scrolled": true
   },
   "outputs": [
    {
     "name": "stderr",
     "output_type": "stream",
     "text": [
      "/home/sylvain/jupyter/ipython/IPython/html.py:10: UserWarning: The `IPython.html` package has been deprecated. You should import from `notebook` instead. `IPython.html.widgets` has moved to `ipywidgets`.\n",
      "  warn(\"The `IPython.html` package has been deprecated. \"\n",
      ":0: FutureWarning: IPython widgets are experimental and may change in the future.\n"
     ]
    }
   ],
   "source": [
    "from IPython.html.widgets import *\n",
    "from gamepad import *\n",
    "gamepad = GamePad()"
   ]
  },
  {
   "cell_type": "markdown",
   "metadata": {},
   "source": [
    "# Connect a gamepad and press any button before running the following."
   ]
  },
  {
   "cell_type": "code",
   "execution_count": 5,
   "metadata": {
    "collapsed": false
   },
   "outputs": [],
   "source": [
    "squares = [FloatProgress(min=0.0, max=1.0) for axis in gamepad.buttons]\n",
    "bars = [FloatProgress(min=-1.0, max=1.0, bar_style='warning') for axis in gamepad.axes]\n",
    "timestamp_display = FloatText(disabled=True)"
   ]
  },
  {
   "cell_type": "code",
   "execution_count": 6,
   "metadata": {
    "collapsed": false
   },
   "outputs": [],
   "source": [
    "for axis, bar in zip(gamepad.axes, bars):\n",
    "    jsdlink((axis, 'value'), (bar, 'value'))\n",
    "for button, btn in zip(gamepad.buttons, squares):\n",
    "    jsdlink((button, 'value'), (btn, 'value'))\n",
    "jsdlink((gamepad, 'timestamp'), (timestamp_display, 'value'))\n",
    "\n",
    "VBox([Latex(gamepad.id, font_size='20px'),\n",
    "      Latex(gamepad.mapping),\n",
    "      timestamp_display,\n",
    "      HBox([VBox([Latex('Axes')] + bars, margin='5px'), \n",
    "            VBox([Latex('Buttons')] + squares, margin='5px')])])"
   ]
  },
  {
   "cell_type": "code",
   "execution_count": null,
   "metadata": {
    "collapsed": true
   },
   "outputs": [],
   "source": []
  }
 ],
 "metadata": {
  "kernelspec": {
   "display_name": "Python 2",
   "language": "python",
   "name": "python2"
  },
  "language_info": {
   "codemirror_mode": {
    "name": "ipython",
    "version": 2
   },
   "file_extension": ".py",
   "mimetype": "text/x-python",
   "name": "python",
   "nbconvert_exporter": "python",
   "pygments_lexer": "ipython2",
   "version": "2.7.10"
  }
 },
 "nbformat": 4,
 "nbformat_minor": 0
}
